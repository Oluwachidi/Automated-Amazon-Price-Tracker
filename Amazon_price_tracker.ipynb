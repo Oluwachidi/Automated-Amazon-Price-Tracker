{
 "cells": [
  {
   "cell_type": "code",
   "execution_count": 1,
   "id": "39010348",
   "metadata": {},
   "outputs": [],
   "source": [
    "import requests\n",
    "from bs4 import BeautifulSoup"
   ]
  },
  {
   "cell_type": "code",
   "execution_count": 2,
   "id": "caf3db91",
   "metadata": {},
   "outputs": [],
   "source": [
    "URL = \"https://www.amazon.ca/gp/product/B097PW7DPX/ref=ox_sc_act_title_2?smid=ASFEW20A6TEYF&psc=1\""
   ]
  },
  {
   "cell_type": "code",
   "execution_count": 3,
   "id": "94f8237f",
   "metadata": {},
   "outputs": [],
   "source": [
    "response = requests.get(URL, headers={'Accept-Language': 'en-US,en;q=0.9', \"User-Agent:})"
   ]
  },
  {
   "cell_type": "code",
   "execution_count": 4,
   "id": "82002c9c",
   "metadata": {},
   "outputs": [
    {
     "data": {
      "text/plain": [
       "<Response [503]>"
      ]
     },
     "execution_count": 4,
     "metadata": {},
     "output_type": "execute_result"
    }
   ],
   "source": [
    "response"
   ]
  }
 ],
 "metadata": {
  "kernelspec": {
   "display_name": "Python 3 (ipykernel)",
   "language": "python",
   "name": "python3"
  },
  "language_info": {
   "codemirror_mode": {
    "name": "ipython",
    "version": 3
   },
   "file_extension": ".py",
   "mimetype": "text/x-python",
   "name": "python",
   "nbconvert_exporter": "python",
   "pygments_lexer": "ipython3",
   "version": "3.8.6"
  },
  "toc": {
   "base_numbering": 1,
   "nav_menu": {},
   "number_sections": true,
   "sideBar": true,
   "skip_h1_title": false,
   "title_cell": "Table of Contents",
   "title_sidebar": "Contents",
   "toc_cell": false,
   "toc_position": {},
   "toc_section_display": true,
   "toc_window_display": false
  }
 },
 "nbformat": 4,
 "nbformat_minor": 5
}
