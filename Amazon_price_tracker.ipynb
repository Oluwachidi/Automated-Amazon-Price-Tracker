{
 "cells": [
  {
   "cell_type": "code",
   "execution_count": 12,
   "id": "458f3f2b",
   "metadata": {},
   "outputs": [
    {
     "name": "stdout",
     "output_type": "stream",
     "text": [
      "Requirement already satisfied: lxml in /home/chidi/.pyenv/versions/3.8.6/envs/lewagon/lib/python3.8/site-packages (4.6.3)\r\n"
     ]
    }
   ],
   "source": [
    "!pip install lxml"
   ]
  },
  {
   "cell_type": "code",
   "execution_count": 48,
   "id": "7c7a29a3",
   "metadata": {},
   "outputs": [],
   "source": [
    "import requests\n",
    "from bs4 import BeautifulSoup\n",
    "import smtplib"
   ]
  },
  {
   "cell_type": "code",
   "execution_count": 71,
   "id": "2b10f091",
   "metadata": {},
   "outputs": [],
   "source": [
    "# URL = \"https://www.amazon.ca/gp/product/B097PW7DPX/ref=ox_sc_act_title_2?smid=ASFEW20A6TEYF&psc=1\"\n",
    "URL = 'https://www.amazon.com/P2-Portable-Extender-Speakers-Notebook/dp/B09L4X16B6/ref=sr_1_2_sspa?crid=L934NGSZHDCQ&keywords=ofiyaa+p2+12+inch+triple+portable+monitor&qid=1641872109&sprefix=ofiy%2Caps%2C112&sr=8-2-spons&psc=1&spLa=ZW5jcnlwdGVkUXVhbGlmaWVyPUExNlJZMlRZSU44QlhBJmVuY3J5cHRlZElkPUEwODk5MDEzMURIUjhHN1hYQzE0WCZlbmNyeXB0ZWRBZElkPUEwNjU3NTA1Mk9ZSURHUEM3VTFZJndpZGdldE5hbWU9c3BfYXRmJmFjdGlvbj1jbGlja1JlZGlyZWN0JmRvTm90TG9nQ2xpY2s9dHJ1ZQ=='\n",
    "header = {\n",
    "    'Accept-Language': 'en-US,en;q=0.9', \n",
    "    \"User-Agent\": \"Mozilla/5.0 (Windows NT 10.0; Win64; x64) AppleWebKit/537.36 (KHTML, like Gecko)\\\n",
    "    Chrome/96.0.4664.110 Safari/537.36\"\n",
    "}\n",
    "\n",
    "response = requests.get(URL, headers=header).content"
   ]
  },
  {
   "cell_type": "code",
   "execution_count": 72,
   "id": "18a9829b",
   "metadata": {},
   "outputs": [
    {
     "data": {
      "text/plain": [
       "399.99"
      ]
     },
     "execution_count": 72,
     "metadata": {},
     "output_type": "execute_result"
    }
   ],
   "source": [
    "soup = BeautifulSoup(response, 'lxml')\n",
    "price = soup.find_all(name='span', class_=\"a-offscreen\")\n",
    "current_price = float(price[0].text.strip('$'))\n",
    "current_price"
   ]
  },
  {
   "cell_type": "code",
   "execution_count": 73,
   "id": "1da96fe8",
   "metadata": {},
   "outputs": [
    {
     "data": {
      "text/plain": [
       "'P2 Triple Portable Monitor for Laptop Screen Extender Dual Mon'"
      ]
     },
     "execution_count": 73,
     "metadata": {},
     "output_type": "execute_result"
    }
   ],
   "source": [
    "# product_name = soup.find(name='span', class_=\"a-size-large product-title-word-break\").text.strip(' ')\n",
    "product_name = soup.find(id='productTitle').get_text().strip()[0:62]\n",
    "product_name"
   ]
  },
  {
   "cell_type": "code",
   "execution_count": 74,
   "id": "23c5bce8",
   "metadata": {},
   "outputs": [],
   "source": [
    "my_email = \"forpythonlesson@gmail.com\"\n",
    "to_email = \"forpythonlesson@yahoo.com\"\n",
    "password = \"********\"\n",
    "smtp_address = \"smtp.gmail.com\"\n",
    "target_price = 500.00"
   ]
  },
  {
   "cell_type": "code",
   "execution_count": 75,
   "id": "21889074",
   "metadata": {
    "scrolled": true
   },
   "outputs": [],
   "source": [
    "if current_price <= target_price:  \n",
    "    with smtplib.SMTP(smtp_address) as connection:\n",
    "        connection.starttls()\n",
    "        connection.login(user= my_email, password=password)\n",
    "        connection.sendmail(\n",
    "            from_addr= my_email,\n",
    "            to_addrs= to_email,\n",
    "            msg= f\"Subject:Drop in price of {product_name}\\n\\nThe price of {product_name} is now {current_price}\"\n",
    "        )"
   ]
  }
 ],
 "metadata": {
  "kernelspec": {
   "display_name": "Python 3 (ipykernel)",
   "language": "python",
   "name": "python3"
  },
  "language_info": {
   "codemirror_mode": {
    "name": "ipython",
    "version": 3
   },
   "file_extension": ".py",
   "mimetype": "text/x-python",
   "name": "python",
   "nbconvert_exporter": "python",
   "pygments_lexer": "ipython3",
   "version": "3.8.6"
  },
  "toc": {
   "base_numbering": 1,
   "nav_menu": {},
   "number_sections": true,
   "sideBar": true,
   "skip_h1_title": false,
   "title_cell": "Table of Contents",
   "title_sidebar": "Contents",
   "toc_cell": false,
   "toc_position": {},
   "toc_section_display": true,
   "toc_window_display": false
  }
 },
 "nbformat": 4,
 "nbformat_minor": 5
}
