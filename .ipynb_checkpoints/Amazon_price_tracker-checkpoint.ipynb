{
 "cells": [
  {
   "cell_type": "code",
   "execution_count": 12,
   "id": "19e10b4f",
   "metadata": {},
   "outputs": [
    {
     "name": "stdout",
     "output_type": "stream",
     "text": [
      "Requirement already satisfied: lxml in /home/chidi/.pyenv/versions/3.8.6/envs/lewagon/lib/python3.8/site-packages (4.6.3)\r\n"
     ]
    }
   ],
   "source": [
    "!pip install lxml"
   ]
  },
  {
   "cell_type": "code",
   "execution_count": 2,
   "id": "f3c26486",
   "metadata": {},
   "outputs": [],
   "source": [
    "import requests\n",
    "from bs4 import BeautifulSoup"
   ]
  },
  {
   "cell_type": "code",
   "execution_count": 45,
   "id": "5aa02ab6",
   "metadata": {},
   "outputs": [],
   "source": [
    "URL = \"https://www.amazon.ca/gp/product/B097PW7DPX/ref=ox_sc_act_title_2?smid=ASFEW20A6TEYF&psc=1\"\n",
    "header = {\n",
    "    'Accept-Language': 'en-US,en;q=0.9', \n",
    "    \"User-Agent\": \"Mozilla/5.0 (Windows NT 10.0; Win64; x64) AppleWebKit/537.36 (KHTML, like Gecko)\\\n",
    "    Chrome/96.0.4664.110 Safari/537.36\"\n",
    "}\n",
    "\n",
    "response = requests.get(URL, headers=header).content"
   ]
  },
  {
   "cell_type": "code",
   "execution_count": 46,
   "id": "4df49263",
   "metadata": {},
   "outputs": [
    {
     "data": {
      "text/plain": [
       "498.75"
      ]
     },
     "execution_count": 46,
     "metadata": {},
     "output_type": "execute_result"
    }
   ],
   "source": [
    "soup = BeautifulSoup(response, 'lxml')\n",
    "price = soup.find_all(name='span', class_=\"a-offscreen\")\n",
    "current_price = float(price[0].text.strip('$'))\n",
    "current_price"
   ]
  },
  {
   "cell_type": "code",
   "execution_count": null,
   "id": "9818479c",
   "metadata": {},
   "outputs": [],
   "source": [
    "target_price = 400.00"
   ]
  }
 ],
 "metadata": {
  "kernelspec": {
   "display_name": "Python 3 (ipykernel)",
   "language": "python",
   "name": "python3"
  },
  "language_info": {
   "codemirror_mode": {
    "name": "ipython",
    "version": 3
   },
   "file_extension": ".py",
   "mimetype": "text/x-python",
   "name": "python",
   "nbconvert_exporter": "python",
   "pygments_lexer": "ipython3",
   "version": "3.8.6"
  },
  "toc": {
   "base_numbering": 1,
   "nav_menu": {},
   "number_sections": true,
   "sideBar": true,
   "skip_h1_title": false,
   "title_cell": "Table of Contents",
   "title_sidebar": "Contents",
   "toc_cell": false,
   "toc_position": {},
   "toc_section_display": true,
   "toc_window_display": false
  }
 },
 "nbformat": 4,
 "nbformat_minor": 5
}
